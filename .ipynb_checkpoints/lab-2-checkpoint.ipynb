{
 "cells": [
  {
   "cell_type": "code",
   "execution_count": 3,
   "metadata": {},
   "outputs": [
    {
     "data": {
      "text/plain": [
       "['Initialized empty Git repository in C:/Users/hdtah/Documents/Master in Data Science/Data science in python/laboratorio-2/.git/']"
      ]
     },
     "execution_count": 3,
     "metadata": {},
     "output_type": "execute_result"
    }
   ],
   "source": [
    "%%!\n",
    "git init"
   ]
  },
  {
   "cell_type": "markdown",
   "metadata": {},
   "source": [
    "# Laboratorio #2"
   ]
  },
  {
   "cell_type": "markdown",
   "metadata": {},
   "source": [
    "## Parte #1 (Programación y Sintaxis)\n",
    "\n",
    "### 1. Programa 1"
   ]
  },
  {
   "cell_type": "code",
   "execution_count": 6,
   "metadata": {},
   "outputs": [
    {
     "data": {
      "text/plain": [
       "'Programa que recibe un valor como parámetro (número en segundos) y que despliegue el equivalente en horas, minutos y segundos.'"
      ]
     },
     "execution_count": 6,
     "metadata": {},
     "output_type": "execute_result"
    }
   ],
   "source": [
    "\"\"\"Programa que recibe un valor como parámetro (número en segundos) y que despliegue el equivalente en horas, minutos y segundos.\"\"\""
   ]
  },
  {
   "cell_type": "code",
   "execution_count": 16,
   "metadata": {},
   "outputs": [],
   "source": [
    "import math\n",
    "\n",
    "def get_h_m_s(seconds=0):\n",
    "    \"\"\"Handle to convert seconds to format h:m:s\"\"\"\n",
    "    try:\n",
    "        segs    = int(seconds)\n",
    "        ss = math.floor(segs % 60)\n",
    "        mm = math.floor((segs / 60) % 60)\n",
    "        hh = math.floor(((segs / 60) / 60) % 60)\n",
    "        \n",
    "        return f\"{hh} horas, {mm} minutos, {ss} segundos.\"\n",
    "    except Exception as e:\n",
    "        print(\"Error en la entrada de datos\", e)"
   ]
  },
  {
   "cell_type": "code",
   "execution_count": 23,
   "metadata": {},
   "outputs": [
    {
     "name": "stdin",
     "output_type": "stream",
     "text": [
      "Ingrese los segundos:  2743\n"
     ]
    },
    {
     "data": {
      "text/plain": [
       "'0 horas, 45 minutos, 43 segundos.'"
      ]
     },
     "execution_count": 23,
     "metadata": {},
     "output_type": "execute_result"
    }
   ],
   "source": [
    "get_seconds = input('Ingrese los segundos: ')\n",
    "get_h_m_s(get_seconds)"
   ]
  },
  {
   "cell_type": "markdown",
   "metadata": {},
   "source": [
    "### 2. Programa 2"
   ]
  },
  {
   "cell_type": "code",
   "execution_count": 343,
   "metadata": {},
   "outputs": [],
   "source": [
    "\"\"\"Programa que dibuja un patrón de 4 triángulos dado un número entre 1 y 20, y cualquier carácter\"\"\"\n",
    "\n",
    "\n",
    "def draw_patron(num, caracter):\n",
    "    \"\"\"Handle draw patron\"\"\"\n",
    "    try:\n",
    "        if((int(num) >= 1) and (int(num) <= 20)):\n",
    "            aux  = int(num) + 1\n",
    "            aux2 = aux - 1\n",
    "            for i in range(0, int(num), 1):\n",
    "                aux  = aux - 1\n",
    "                line_draw = (caracter * (i + 1)) + \"\\t\" + (caracter*aux) + \"\\t\"  + ' '*(aux2) + (caracter*aux)+ ' '*(aux2) + \"\\t\" + ' '*(aux-1) + (caracter*(i+1))\n",
    "                if(i > 0 and ((i % 2) == 0)):\n",
    "                    aux2 = aux2 + 1\n",
    "                    line_draw = (caracter * (i + 1)) + \"\\t\"+ ' '*i + (caracter*aux) + \"\\t\" + ' '*(aux2) + (caracter*aux) + ' '*(aux2) + \"\\t\" + ' '*(aux) + (caracter*(i+1))\n",
    "                elif(i > 0 and ((i % 2) > 0)):\n",
    "                    line_draw = (caracter * (i + 1)) + \"\\t\"+ ' '*i + (caracter*aux) + \"\\t\" + ' '*(aux2) + (caracter*aux) + ' '*(aux2) + \"\\t\" + ' '*(aux) + (caracter*(i+1))\n",
    "                print(line_draw)  \n",
    "            \n",
    "        else:\n",
    "            raise ValueError('El número que ingresó no es válido, debe estar entre 1 y 20.')\n",
    "    except Exception as e:\n",
    "        print(f\"Error en la entrada de datos: {e}\")"
   ]
  },
  {
   "cell_type": "code",
   "execution_count": 352,
   "metadata": {},
   "outputs": [
    {
     "name": "stdout",
     "output_type": "stream",
     "text": [
      "*\t****\t    ****    \t   *\n",
      "**\t ***\t    ***    \t   **\n",
      "***\t  **\t     **     \t  ***\n",
      "****\t   *\t     *     \t ****\n"
     ]
    }
   ],
   "source": [
    "draw_patron(4, '*')"
   ]
  },
  {
   "cell_type": "code",
   "execution_count": null,
   "metadata": {},
   "outputs": [],
   "source": []
  }
 ],
 "metadata": {
  "kernelspec": {
   "display_name": "Python 3",
   "language": "python",
   "name": "python3"
  },
  "language_info": {
   "codemirror_mode": {
    "name": "ipython",
    "version": 3
   },
   "file_extension": ".py",
   "mimetype": "text/x-python",
   "name": "python",
   "nbconvert_exporter": "python",
   "pygments_lexer": "ipython3",
   "version": "3.8.5"
  }
 },
 "nbformat": 4,
 "nbformat_minor": 4
}
