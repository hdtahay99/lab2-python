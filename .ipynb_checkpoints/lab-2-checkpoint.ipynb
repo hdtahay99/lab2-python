{
 "cells": [
  {
   "cell_type": "code",
   "execution_count": 3,
   "metadata": {},
   "outputs": [
    {
     "data": {
      "text/plain": [
       "['Initialized empty Git repository in C:/Users/hdtah/Documents/Master in Data Science/Data science in python/laboratorio-2/.git/']"
      ]
     },
     "execution_count": 3,
     "metadata": {},
     "output_type": "execute_result"
    }
   ],
   "source": [
    "%%!\n",
    "git init"
   ]
  },
  {
   "cell_type": "markdown",
   "metadata": {},
   "source": [
    "# Laboratorio #2"
   ]
  },
  {
   "cell_type": "markdown",
   "metadata": {},
   "source": [
    "## Parte #1 (Programación y Sintaxis)\n",
    "\n",
    "### 1.1 Programa 1"
   ]
  },
  {
   "cell_type": "code",
   "execution_count": 6,
   "metadata": {},
   "outputs": [
    {
     "data": {
      "text/plain": [
       "'Programa que recibe un valor como parámetro (número en segundos) y que despliegue el equivalente en horas, minutos y segundos.'"
      ]
     },
     "execution_count": 6,
     "metadata": {},
     "output_type": "execute_result"
    }
   ],
   "source": [
    "\"\"\"Programa que recibe un valor como parámetro (número en segundos) y que despliegue el equivalente en horas, minutos y segundos.\"\"\""
   ]
  },
  {
   "cell_type": "code",
   "execution_count": 16,
   "metadata": {},
   "outputs": [],
   "source": [
    "import math\n",
    "\n",
    "def get_h_m_s(seconds=0):\n",
    "    \"\"\"Handle to convert seconds to format h:m:s\"\"\"\n",
    "    try:\n",
    "        segs    = int(seconds)\n",
    "        ss = math.floor(segs % 60)\n",
    "        mm = math.floor((segs / 60) % 60)\n",
    "        hh = math.floor(((segs / 60) / 60) % 60)\n",
    "        \n",
    "        return f\"{hh} horas, {mm} minutos, {ss} segundos.\"\n",
    "    except Exception as e:\n",
    "        print(\"Error en la entrada de datos\", e)"
   ]
  },
  {
   "cell_type": "code",
   "execution_count": 23,
   "metadata": {},
   "outputs": [
    {
     "name": "stdin",
     "output_type": "stream",
     "text": [
      "Ingrese los segundos:  2743\n"
     ]
    },
    {
     "data": {
      "text/plain": [
       "'0 horas, 45 minutos, 43 segundos.'"
      ]
     },
     "execution_count": 23,
     "metadata": {},
     "output_type": "execute_result"
    }
   ],
   "source": [
    "get_seconds = input('Ingrese los segundos: ')\n",
    "get_h_m_s(get_seconds)"
   ]
  },
  {
   "cell_type": "markdown",
   "metadata": {},
   "source": [
    "### 2.2 Programa 2"
   ]
  },
  {
   "cell_type": "code",
   "execution_count": 697,
   "metadata": {},
   "outputs": [],
   "source": [
    "\"\"\"Programa que dibuja un patrón de 4 triángulos dado un número entre 1 y 20, y cualquier carácter\"\"\"\n",
    "\n",
    "\n",
    "def draw_patron(num, caracter):\n",
    "    \"\"\"Handle draw patron\"\"\"\n",
    "    try:\n",
    "        if((int(num) >= 1) and (int(num) <= 20)):\n",
    "            aux  = int(num) + 1\n",
    "            aux2 = aux - 1\n",
    "            aux3 = aux - 1\n",
    "            for i in range(0, int(num), 1):\n",
    "                aux  = aux - 1\n",
    "                line_draw = (caracter * (i + 1)) + \" \"*aux3 + (caracter*aux) + ' '*(aux2) + (caracter*aux)+ ' '*(aux2) + ' '*(aux-1) + (caracter*(i+1))\n",
    "                if(i > 0 and ((i % 2) == 0)):\n",
    "                    aux2 = aux2 + 1\n",
    "                    aux3 = aux3 - 1\n",
    "                    line_draw = (caracter * (i + 1)) + \" \"*(aux3) + ' '*i + (caracter*aux)  + ' '*(aux2) + (caracter*aux) + ' '*(aux2) + ' '*(aux) + (caracter*(i+1))\n",
    "                elif(i > 0 and ((i % 2) > 0)):\n",
    "                    aux3 = aux3 - 1\n",
    "                    line_draw = (caracter * (i + 1)) + \" \"*(aux3) + ' '*i + (caracter*aux)  + ' '*(aux2) + (caracter*aux)  + ' '*(aux2) + ' '*(aux+1) + (caracter*(i+1))\n",
    "                print(line_draw)  \n",
    "            \n",
    "        else:\n",
    "            raise ValueError('El número que ingresó no es válido, debe estar entre 1 y 20.')\n",
    "    except Exception as e:\n",
    "        print(f\"Error en la entrada de datos: {e}\")"
   ]
  },
  {
   "cell_type": "code",
   "execution_count": 708,
   "metadata": {},
   "outputs": [
    {
     "name": "stdout",
     "output_type": "stream",
     "text": [
      "*    ****    ****       *\n",
      "**    ***    ***        **\n",
      "***    **     **       ***\n",
      "****    *     *       ****\n"
     ]
    }
   ],
   "source": [
    "draw_patron(4, '*')"
   ]
  },
  {
   "cell_type": "markdown",
   "metadata": {},
   "source": [
    "### 3.3 Programa 3"
   ]
  },
  {
   "cell_type": "code",
   "execution_count": 12,
   "metadata": {},
   "outputs": [],
   "source": [
    "\"\"\"Programa en Python que despliega la edad de una persona años, meses y días\"\"\"\n",
    "\n",
    "from datetime import date \n",
    "\n",
    "def get_old(day, month, year):\n",
    "    \"\"\"Handle the old\"\"\"\n",
    "    todayDate = date.today() \n",
    "    \n",
    "    if(month >= todayDate.month):\n",
    "        years = (todayDate.year - int(year)) - 1\n",
    "    else:\n",
    "        years = todayDate.year - int(year)\n",
    "        \n",
    "    months = (todayDate.month - month)\n",
    "    days   = (todayDate.day - day)\n",
    "    \n",
    "    #print(months, days)\n",
    "        \n",
    "    if(0 > days):\n",
    "        months = months - 1\n",
    "        days   = days + 31\n",
    "        \n",
    "    if (0 > months):\n",
    "        months = months + 12\n",
    "    \n",
    "    print(f\"{years} años, {months} meses y {days} días\")"
   ]
  },
  {
   "cell_type": "code",
   "execution_count": 13,
   "metadata": {},
   "outputs": [
    {
     "name": "stdin",
     "output_type": "stream",
     "text": [
      "Ingrese el año de su nacimiento:  1994\n",
      "Ingrese el mes de su nacimiento:  10\n",
      "Ingrese el día de su nacimiento:  25\n"
     ]
    },
    {
     "name": "stdout",
     "output_type": "stream",
     "text": [
      "26 años, 3 meses y 23 días\n"
     ]
    }
   ],
   "source": [
    "try:\n",
    "    year  = int(input('Ingrese el año de su nacimiento: '))\n",
    "    month = int(input('Ingrese el mes de su nacimiento: '))\n",
    "    day   = int(input('Ingrese el día de su nacimiento: '))\n",
    "    \n",
    "    if(year <= 0 or ((month <= 0) or (month > 12)) or ((day <= 0) or (day > 31))):\n",
    "        raise ValueError('Recuerde que el año debe ser mayor a 0, el mes entre el 1 y 12, y el día entre el 1 y 31.')\n",
    "    else:\n",
    "        get_old(day, month, year)\n",
    "except Exception as e:\n",
    "    print(f\"Error en la entrada de datos: {e}\")"
   ]
  },
  {
   "cell_type": "markdown",
   "metadata": {},
   "source": [
    "## Parte #2 (Programación y Sintaxis)\n",
    "\n",
    "### 2.1 Programa 1"
   ]
  },
  {
   "cell_type": "code",
   "execution_count": 23,
   "metadata": {},
   "outputs": [],
   "source": [
    "\"\"\"Programa que recibe una tupla y la transforma en un string\"\"\"\n",
    "\n",
    "\n",
    "def tuple_to_str(data):\n",
    "    try:\n",
    "        result = ''\n",
    "        for i in list(data):\n",
    "            result = result + str(i)\n",
    "        return result\n",
    "    except Exception as e:\n",
    "        return f\"Error en la entrada de datos: {e}\""
   ]
  },
  {
   "cell_type": "code",
   "execution_count": 26,
   "metadata": {},
   "outputs": [
    {
     "data": {
      "text/plain": [
       "'102040570'"
      ]
     },
     "execution_count": 26,
     "metadata": {},
     "output_type": "execute_result"
    }
   ],
   "source": [
    "tuple_to_str((10, 20, 40, 5, 70))"
   ]
  },
  {
   "cell_type": "code",
   "execution_count": 27,
   "metadata": {},
   "outputs": [
    {
     "data": {
      "text/plain": [
       "'_HEANSELL_ES__UN__ALUMNO_'"
      ]
     },
     "execution_count": 27,
     "metadata": {},
     "output_type": "execute_result"
    }
   ],
   "source": [
    "tuple_to_str(('_HEANSELL', '_ES_', '_UN_', '_ALUMNO_'))"
   ]
  },
  {
   "cell_type": "markdown",
   "metadata": {},
   "source": [
    "### 2.2 Programa 2"
   ]
  },
  {
   "cell_type": "code",
   "execution_count": 76,
   "metadata": {},
   "outputs": [],
   "source": [
    "\"\"\"Programa que elimina de una lista las tuplas vacías\"\"\"\n",
    "\n",
    "\n",
    "def delete_empty_tuple(data):\n",
    "    try:\n",
    "        temp = []\n",
    "        for tupla in data:\n",
    "            if(len(tupla) > 0):\n",
    "                temp.append(tupla)\n",
    "        return temp\n",
    "    except Exception as e:\n",
    "        return f\"Error en la entrada de datos: {e}\""
   ]
  },
  {
   "cell_type": "code",
   "execution_count": 77,
   "metadata": {},
   "outputs": [
    {
     "data": {
      "text/plain": [
       "['X', ('a', 'b'), ('a', 'b', 'c'), 'd']"
      ]
     },
     "execution_count": 77,
     "metadata": {},
     "output_type": "execute_result"
    }
   ],
   "source": [
    "lista = delete_empty_tuple([(), ('X'), ('a', 'b'), ('a', 'b', 'c'), (), ('d')])\n",
    "lista"
   ]
  },
  {
   "cell_type": "markdown",
   "metadata": {},
   "source": [
    "### 2.3 Programa 3"
   ]
  },
  {
   "cell_type": "code",
   "execution_count": 112,
   "metadata": {},
   "outputs": [],
   "source": [
    "\"\"\"Programa que obtiene el promedio de cada tupla dentro de una tupla\"\"\"\n",
    "\n",
    "\n",
    "def get_average_tuple(tupla):\n",
    "    try:\n",
    "        temp = ()\n",
    "        for tup in list(tupla):\n",
    "            aux = 0\n",
    "            avg = 0\n",
    "            for t in list(tup):\n",
    "                aux = aux + t\n",
    "            avg = round((aux / len(tup)), 2)\n",
    "            temp = temp + (avg,)\n",
    "        return temp\n",
    "    except Exception as e:\n",
    "        return f\"Error en la entrada de datos: {e}\""
   ]
  },
  {
   "cell_type": "code",
   "execution_count": 114,
   "metadata": {},
   "outputs": [
    {
     "data": {
      "text/plain": [
       "(10.5, 44.0, 58.0)"
      ]
     },
     "execution_count": 114,
     "metadata": {},
     "output_type": "execute_result"
    }
   ],
   "source": [
    "res = get_average_tuple(( (10, 10, 10, 12), (30,45, 56, 45), (81, 80, 39, 32) ))\n",
    "res"
   ]
  },
  {
   "cell_type": "code",
   "execution_count": null,
   "metadata": {},
   "outputs": [],
   "source": []
  }
 ],
 "metadata": {
  "kernelspec": {
   "display_name": "Python 3",
   "language": "python",
   "name": "python3"
  },
  "language_info": {
   "codemirror_mode": {
    "name": "ipython",
    "version": 3
   },
   "file_extension": ".py",
   "mimetype": "text/x-python",
   "name": "python",
   "nbconvert_exporter": "python",
   "pygments_lexer": "ipython3",
   "version": "3.8.5"
  }
 },
 "nbformat": 4,
 "nbformat_minor": 4
}
